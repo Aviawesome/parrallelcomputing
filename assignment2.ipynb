{
  "nbformat": 4,
  "nbformat_minor": 0,
  "metadata": {
    "colab": {
      "name": "assignment2.ipynb",
      "provenance": [],
      "collapsed_sections": [],
      "authorship_tag": "ABX9TyNzLTTgy7b6bCSoyUPxp1xS",
      "include_colab_link": true
    },
    "kernelspec": {
      "display_name": "Python 3",
      "name": "python3"
    },
    "language_info": {
      "name": "python"
    }
  },
  "cells": [
    {
      "cell_type": "markdown",
      "metadata": {
        "id": "view-in-github",
        "colab_type": "text"
      },
      "source": [
        "<a href=\"https://colab.research.google.com/github/Aviawesome/parrallelcomputing/blob/main/assignment2.ipynb\" target=\"_parent\"><img src=\"https://colab.research.google.com/assets/colab-badge.svg\" alt=\"Open In Colab\"/></a>"
      ]
    },
    {
      "cell_type": "code",
      "metadata": {
        "colab": {
          "base_uri": "https://localhost:8080/"
        },
        "id": "i7aOgUx85ux_",
        "outputId": "c1a633ad-5e46-4e99-ec64-261baebcc3dc"
      },
      "source": [
        "%%writefile ass1.cpp\n",
        "\n",
        "#include<iostream>\n",
        "#include<vector>\n",
        "#include<mpi.h>\n",
        "#include<cstdlib>\n",
        "#define N 20\n",
        "using namespace std;\n",
        "int main(int argc, char **argv)\n",
        "{\n",
        "    vector<int> v,v1;\n",
        " int rank,size;\n",
        " int n,a,sum=0,b,c;\n",
        "  MPI_Init(&argc,&argv);\n",
        " MPI_Comm_size(MPI_COMM_WORLD,&size);\n",
        " MPI_Comm_rank(MPI_COMM_WORLD,&rank);\n",
        " srand(time(NULL)+rank);\n",
        " for(int i=0;i<N;i++)\n",
        " {\n",
        "     c=rand()%100+1;\n",
        "     v.push_back(c);\n",
        " }\n",
        " a=N/size;\n",
        " for(int i=rank*a;i<(rank+1)*a;i++)\n",
        " {\n",
        "     sum+=v[i];\n",
        " }\n",
        " if(rank==(size-1))\n",
        " {\n",
        "     if(N%size!=0)\n",
        "     {\n",
        "         a=N%size;\n",
        "      for(int i=N-1;i>=N-a;i--)\n",
        "      {\n",
        "          sum=sum+v[i];\n",
        "      }\n",
        "     }\n",
        " }\n",
        " cout<<\"sum=\"<<sum<<\" of rank \"<<rank<<\"\\n\";\n",
        " if(rank==0)\n",
        " {\n",
        "     for(int i=1;i<size;i++)\n",
        "     {\n",
        "         MPI_Recv(&b,1,MPI_INT,i,0,MPI_COMM_WORLD,MPI_STATUS_IGNORE);\n",
        "      v1.push_back(b);\n",
        "     }\n",
        " }\n",
        " else\n",
        " {\n",
        "     MPI_Send(&sum,1,MPI_INT,0,0,MPI_COMM_WORLD);\n",
        " }\n",
        " MPI_Barrier(MPI_COMM_WORLD);\n",
        " if(rank==0)\n",
        " {\n",
        "     for(int i=0;i<size-1;i++)\n",
        "     {\n",
        "         sum=sum+v1[i];\n",
        "     }\n",
        "  cout<<\"sum=\"<<sum;\n",
        " }\n",
        " MPI_Finalize();\n",
        " return 0;\n",
        "}"
      ],
      "execution_count": 35,
      "outputs": [
        {
          "output_type": "stream",
          "name": "stdout",
          "text": [
            "Writing ass1.cpp\n"
          ]
        }
      ]
    },
    {
      "cell_type": "code",
      "metadata": {
        "colab": {
          "base_uri": "https://localhost:8080/"
        },
        "id": "6KP-jgCi86E_",
        "outputId": "ea7c4ff5-c71f-45c7-840f-ec36a65cdd4f"
      },
      "source": [
        "!mpic++ ass1.cpp\n",
        "!mpirun -np 2 --allow-run-as-root ./a.out"
      ],
      "execution_count": 36,
      "outputs": [
        {
          "output_type": "stream",
          "name": "stdout",
          "text": [
            "sum=541 of rank 0\n",
            "sum=634 of rank 1\n",
            "sum=1175"
          ]
        }
      ]
    },
    {
      "cell_type": "code",
      "metadata": {
        "colab": {
          "base_uri": "https://localhost:8080/"
        },
        "id": "DHsutd8QSgtW",
        "outputId": "0798c089-4091-4750-cc3b-06b91e22fba2"
      },
      "source": [
        "%%writefile ass3.cpp\n",
        "\n",
        "#include<iostream>\n",
        "#include<vector>\n",
        "#include<mpi.h>\n",
        "#include<cstdlib>\n",
        "#define N 20\n",
        "using namespace std;\n",
        "int main(int argc, char **argv)\n",
        "{\n",
        "    vector<int> v,v1;\n",
        " int rank,size;\n",
        " int n,a,sum=0,b,c;\n",
        "  MPI_Init(&argc,&argv);\n",
        " MPI_Comm_size(MPI_COMM_WORLD,&size);\n",
        " MPI_Comm_rank(MPI_COMM_WORLD,&rank);\n",
        " a=N/size;\n",
        " for(int i=rank*a;i<(rank+1)*a;i++)\n",
        " {\n",
        "     v.push_back(i);\n",
        " }\n",
        " if(rank==(size-1))\n",
        " {\n",
        "     if(N%size!=0)\n",
        "     {\n",
        "         a=N%size;\n",
        "      for(int i=N-1;i>=N-a;i--)\n",
        "      {\n",
        "          sum=sum+v[i];\n",
        "      }\n",
        "     }\n",
        " }\n",
        "  for(int i=0;i<v.size();i++)\n",
        " {\n",
        "     sum=sum+v[i];;\n",
        " }\n",
        " cout<<\"sum=\"<<sum<<\" of rank \"<<rank<<\"\\n\";\n",
        " if(rank==0)\n",
        " {\n",
        "     for(int i=1;i<size;i++)\n",
        "     {\n",
        "         MPI_Recv(&b,1,MPI_INT,i,0,MPI_COMM_WORLD,MPI_STATUS_IGNORE);\n",
        "      v1.push_back(b);\n",
        "     }\n",
        " }\n",
        " else\n",
        " {\n",
        "     MPI_Send(&sum,1,MPI_INT,0,0,MPI_COMM_WORLD);\n",
        " }\n",
        " MPI_Barrier(MPI_COMM_WORLD);\n",
        " if(rank==0)\n",
        " {\n",
        "     for(int i=0;i<size-1;i++)\n",
        "     {\n",
        "         sum=sum+v1[i];\n",
        "     }\n",
        "  cout<<\"sum=\"<<sum;\n",
        " }\n",
        " MPI_Finalize();\n",
        " return 0;\n",
        "}"
      ],
      "execution_count": 33,
      "outputs": [
        {
          "output_type": "stream",
          "name": "stdout",
          "text": [
            "Writing ass3.cpp\n"
          ]
        }
      ]
    },
    {
      "cell_type": "code",
      "metadata": {
        "colab": {
          "base_uri": "https://localhost:8080/"
        },
        "id": "8PWxxNzVSzP7",
        "outputId": "11817dab-bceb-4b19-93f8-48d196cd36b4"
      },
      "source": [
        "!mpic++ ass3.cpp\n",
        "!mpirun -np 4 --allow-run-as-root ./a.out"
      ],
      "execution_count": 34,
      "outputs": [
        {
          "output_type": "stream",
          "name": "stdout",
          "text": [
            "sum=85 of rank 3\n",
            "sum=35 of rank 1\n",
            "sum=10 of rank 0\n",
            "sum=60 of rank 2\n",
            "sum=190"
          ]
        }
      ]
    },
    {
      "cell_type": "code",
      "metadata": {
        "id": "02eLnELitIIN",
        "colab": {
          "base_uri": "https://localhost:8080/"
        },
        "outputId": "71e9fd43-ad81-4c3c-f8af-5cbc04b51ec3"
      },
      "source": [
        "%%writefile ass2.cpp\n",
        "\n",
        "\n",
        "#include<iostream>\n",
        "#include<vector>\n",
        "#include<mpi.h>\n",
        "#include<cstdlib>\n",
        "using namespace std;\n",
        "int main(int argc, char **argv)\n",
        "{\n",
        "  int v[10],v1[10];\n",
        " int *p,*q;\n",
        " int rank,size;\n",
        " int n,a,b,c;\n",
        " p=v;\n",
        " q=v1;\n",
        "  MPI_Init(&argc,&argv);\n",
        " MPI_Comm_size(MPI_COMM_WORLD,&size);\n",
        " MPI_Comm_rank(MPI_COMM_WORLD,&rank);\n",
        " n=10;\n",
        " srand(time(NULL)+rank);\n",
        " for(int i=0;i<n;i++)\n",
        " {\n",
        "     a=rand();\n",
        "  v[i]=a;\n",
        " }\n",
        " cout<<\"rank \"<<rank<<\" value before exchange is->\";\n",
        " for(int i=0;i<n;i++)\n",
        " {\n",
        "     cout<<v[i]<<\" \";\n",
        " }\n",
        " cout<<\"\\n\";\n",
        "if(rank<size)\n",
        "{\n",
        "    b=rank;\n",
        " b=(rank+1)%size;\n",
        " MPI_Send(&v,n,MPI_INT,b,0,MPI_COMM_WORLD);\n",
        " c=(rank+size-1)%size;\n",
        " MPI_Recv(&v1,n,MPI_INT,c,0,MPI_COMM_WORLD,MPI_STATUS_IGNORE);\n",
        " for(int i=0;i<n;i++)\n",
        " {\n",
        "     v[i]=v1[i];\n",
        " }\n",
        "}\n",
        " MPI_Barrier(MPI_COMM_WORLD);\n",
        " cout<<\"rank \"<<rank<<\" value after exchange is->\";\n",
        " for(int i=0;i<n;i++)\n",
        " {\n",
        "     cout<<v[i]<<\" \";\n",
        " }\n",
        " cout<<\"\\n\";\n",
        " MPI_Finalize();\n",
        " return 0;\n",
        "}"
      ],
      "execution_count": 31,
      "outputs": [
        {
          "output_type": "stream",
          "name": "stdout",
          "text": [
            "Writing ass2.cpp\n"
          ]
        }
      ]
    },
    {
      "cell_type": "code",
      "metadata": {
        "colab": {
          "base_uri": "https://localhost:8080/"
        },
        "id": "832rXgK1qkyf",
        "outputId": "5e6ace06-b7c9-4c05-ca2a-600ba6b169a5"
      },
      "source": [
        "!mpic++ ass2.cpp\n",
        "!mpirun -np 2 --allow-run-as-root ./a.out"
      ],
      "execution_count": 32,
      "outputs": [
        {
          "output_type": "stream",
          "name": "stdout",
          "text": [
            "rank 0 value before exchange is->1762826136 1220170495 1768058547 150387411 270903324 1700439639 406582498 1120182838 1785514729 866624098 \n",
            "rank 1 value before exchange is->1465884338 2113859530 1348962434 1919899717 1211142942 32780293 117786305 1763791025 300800354 2133356604 \n",
            "rank 0 value after exchange is->1465884338 2113859530 1348962434 1919899717 1211142942 32780293 117786305 1763791025 300800354 2133356604 \n",
            "rank 1 value after exchange is->1762826136 1220170495 1768058547 150387411 270903324 1700439639 406582498 1120182838 1785514729 866624098 \n"
          ]
        }
      ]
    },
    {
      "cell_type": "code",
      "metadata": {
        "colab": {
          "base_uri": "https://localhost:8080/"
        },
        "id": "DHQ9y5tVH37j",
        "outputId": "87f0e5e9-e65d-4965-8675-cbf41c8a4610"
      },
      "source": [
        "%%writefile ass5.cpp\n",
        "\n",
        "\n",
        "\n",
        "#include<iostream>\n",
        "#include<vector>\n",
        "#include<mpi.h>\n",
        "#include<cstdlib>\n",
        "#define N 20\n",
        "using namespace std;\n",
        "int main(int argc, char **argv)\n",
        "{\n",
        "  vector<int64_t> v,v1,v2;\n",
        " int rank,size,c,n,a;\n",
        " int64_t b,sum=0;;\n",
        "  MPI_Init(&argc,&argv);\n",
        " MPI_Comm_size(MPI_COMM_WORLD,&size);\n",
        " MPI_Comm_rank(MPI_COMM_WORLD,&rank);\n",
        "  n=N/size;\n",
        " srand(time(NULL)+rank);\n",
        " for(int i=(rank*n);i<(rank+1)*n;i++)\n",
        " {\n",
        "     c=rand()%10+1;\n",
        "     v.push_back(c);\n",
        " }\n",
        " for(int i=(rank*n);i<(rank+1)*n;i++)\n",
        " {\n",
        "     c=rand()%10+1;\n",
        "     v1.push_back(c);   \n",
        " }\n",
        " if(rank==(size-1))\n",
        " {\n",
        "     if(N%size!=0)\n",
        "     {\n",
        "         a=N%size;\n",
        "      for(int i=N-1;i>=N-a;i--)\n",
        "      {\n",
        "          c=rand()%10+1;\n",
        "          v.push_back(c);\n",
        "      }\n",
        "            for(int i=N-1;i>=N-a;i--)\n",
        "      {\n",
        "          c=rand()%10+1;\n",
        "          v1.push_back(c);\n",
        "      }\n",
        "     }\n",
        " }\n",
        " for(int i=0;i<v.size();i++)\n",
        " {\n",
        "     cout<<v[i]<<\" \";\n",
        " }\n",
        " cout<<\"\\n\";\n",
        "  for(int i=0;i<v1.size();i++)\n",
        " {\n",
        "     cout<<v1[i]<<\" \";\n",
        " }\n",
        " cout<<\"\\n\";\n",
        "  for(int i=0;i<v.size();i++)\n",
        " {\n",
        "     c=v[i]*v1[i];\n",
        "     sum=sum+c;\n",
        " }\n",
        " MPI_Barrier(MPI_COMM_WORLD);\n",
        " cout<<\"rank is \"<<rank<<\" sum is \"<<sum<<\"\\n\";\n",
        "  if(rank==0)\n",
        " {\n",
        "     for(int i=1;i<size;i++)\n",
        "     {\n",
        "         MPI_Recv(&a,1,MPI_INT,i,0,MPI_COMM_WORLD,MPI_STATUS_IGNORE);\n",
        "      v2.push_back(a);\n",
        "     }\n",
        " }\n",
        " else\n",
        " {\n",
        "     MPI_Send(&sum,1,MPI_INT,0,0,MPI_COMM_WORLD);\n",
        " }\n",
        " MPI_Barrier(MPI_COMM_WORLD);\n",
        " if(rank==0)\n",
        " {\n",
        "          for(int i=0;i<size-1;i++)\n",
        "     {\n",
        "         sum=sum+v2[i];\n",
        "     }\n",
        "  cout<<\"sum= \"<<sum;\n",
        " }\n",
        " MPI_Finalize();\n",
        " return 0;\n",
        "}"
      ],
      "execution_count": 29,
      "outputs": [
        {
          "output_type": "stream",
          "name": "stdout",
          "text": [
            "Writing ass5.cpp\n"
          ]
        }
      ]
    },
    {
      "cell_type": "code",
      "metadata": {
        "colab": {
          "base_uri": "https://localhost:8080/"
        },
        "id": "4c8Ymn0FIAkF",
        "outputId": "eff722ad-fb37-4ac4-fbd9-49110bf888f1"
      },
      "source": [
        "!mpic++ ass5.cpp\n",
        "!mpirun -np 8 --allow-run-as-root ./a.out"
      ],
      "execution_count": 30,
      "outputs": [
        {
          "output_type": "stream",
          "name": "stdout",
          "text": [
            "4 2 \n",
            "10 3 \n",
            "7 8 \n",
            "10 2 \n",
            "4 9 \n",
            "1 4 1 3 2 7 \n",
            "2 3 7 6 7 5 \n",
            "3 3 \n",
            "7 5 \n",
            "4 1 \n",
            "1 7 \n",
            "3 4 \n",
            "6 3 \n",
            "2 5 \n",
            "9 1 \n",
            "3 1 \n",
            "rank is 3 sum is 28\n",
            "rank is 2 sum is 27\n",
            "rank is 6 sum is 94\n",
            "rank is 0 sum is 16\n",
            "rank is 4 sum is 36\n",
            "rank is 7 sum is 88\n",
            "rank is 1 sum is 18\n",
            "rank is 5 sum is 58\n",
            "sum= 365"
          ]
        }
      ]
    }
  ]
}