{
  "nbformat": 4,
  "nbformat_minor": 0,
  "metadata": {
    "colab": {
      "name": "practice.ipynb",
      "provenance": [],
      "collapsed_sections": [],
      "authorship_tag": "ABX9TyMnfoDb2pz/2VU1Fk/ZriF8",
      "include_colab_link": true
    },
    "kernelspec": {
      "display_name": "Python 3",
      "name": "python3"
    },
    "language_info": {
      "name": "python"
    }
  },
  "cells": [
    {
      "cell_type": "markdown",
      "metadata": {
        "id": "view-in-github",
        "colab_type": "text"
      },
      "source": [
        "<a href=\"https://colab.research.google.com/github/Aviawesome/parrallelcomputing/blob/main/practice.ipynb\" target=\"_parent\"><img src=\"https://colab.research.google.com/assets/colab-badge.svg\" alt=\"Open In Colab\"/></a>"
      ]
    },
    {
      "cell_type": "code",
      "metadata": {
        "colab": {
          "base_uri": "https://localhost:8080/"
        },
        "id": "i7aOgUx85ux_",
        "outputId": "a0c422e5-1e6d-44e3-ea08-95d4f5cd4162"
      },
      "source": [
        "%%writefile arrsum.cpp\n",
        "\n",
        "#include<iostream>\n",
        "#include<vector>\n",
        "#include<mpi.h>\n",
        "#include<cstdlib>\n",
        "#define N 20\n",
        "using namespace std;\n",
        "int main(int argc, char **argv)\n",
        "{\n",
        "    vector<int> v,v1;\n",
        " int rank,size;\n",
        " int n,a,sum=0,b,c;\n",
        "  MPI_Init(&argc,&argv);\n",
        " MPI_Comm_size(MPI_COMM_WORLD,&size);\n",
        " MPI_Comm_rank(MPI_COMM_WORLD,&rank);\n",
        " srand(time(NULL)+rank);\n",
        " for(int i=0;i<N;i++)\n",
        " {\n",
        "     c=rand()%100+1;\n",
        "     v.push_back(c);\n",
        " }\n",
        " a=N/size;\n",
        " for(int i=rank*a;i<(rank+1)*a;i++)\n",
        " {\n",
        "     sum+=v[i];\n",
        " }\n",
        " if(rank==(size-1))\n",
        " {\n",
        "     if(N%size!=0)\n",
        "     {\n",
        "         a=N%size;\n",
        "      for(int i=N-1;i>=N-a;i--)\n",
        "      {\n",
        "          sum=sum+v[i];\n",
        "      }\n",
        "     }\n",
        " }\n",
        " cout<<\"sum=\"<<sum<<\" of rank \"<<rank<<\"\\n\";\n",
        " if(rank==0)\n",
        " {\n",
        "     for(int i=1;i<size;i++)\n",
        "     {\n",
        "         MPI_Recv(&b,1,MPI_INT,i,0,MPI_COMM_WORLD,MPI_STATUS_IGNORE);\n",
        "      v1.push_back(b);\n",
        "     }\n",
        " }\n",
        " else\n",
        " {\n",
        "     MPI_Send(&sum,1,MPI_INT,0,0,MPI_COMM_WORLD);\n",
        " }\n",
        " MPI_Barrier(MPI_COMM_WORLD);\n",
        " if(rank==0)\n",
        " {\n",
        "     for(int i=0;i<size-1;i++)\n",
        "     {\n",
        "         sum=sum+v1[i];\n",
        "     }\n",
        "  cout<<\"sum=\"<<sum;\n",
        " }\n",
        " MPI_Finalize();\n",
        " return 0;\n",
        "}"
      ],
      "execution_count": 8,
      "outputs": [
        {
          "output_type": "stream",
          "name": "stdout",
          "text": [
            "Overwriting arrsum.cpp\n"
          ]
        }
      ]
    },
    {
      "cell_type": "code",
      "metadata": {
        "colab": {
          "base_uri": "https://localhost:8080/"
        },
        "id": "6KP-jgCi86E_",
        "outputId": "904b75fc-f1ba-4629-c52f-e0cb144445a2"
      },
      "source": [
        "!mpic++ arrsum.cpp\n",
        "!mpirun -np 2 --allow-run-as-root ./a.out"
      ],
      "execution_count": 9,
      "outputs": [
        {
          "output_type": "stream",
          "name": "stdout",
          "text": [
            "sum=474 of rank 1\n",
            "sum=537 of rank 0\n",
            "sum=1011"
          ]
        }
      ]
    },
    {
      "cell_type": "code",
      "metadata": {
        "colab": {
          "base_uri": "https://localhost:8080/"
        },
        "id": "DHsutd8QSgtW",
        "outputId": "51d37946-400c-46ca-c14d-2c6686a1ae0d"
      },
      "source": [
        "%%writefile arrsum1.cpp\n",
        "\n",
        "#include<iostream>\n",
        "#include<vector>\n",
        "#include<mpi.h>\n",
        "#include<cstdlib>\n",
        "#define N 20\n",
        "using namespace std;\n",
        "int main(int argc, char **argv)\n",
        "{\n",
        "    vector<int> v,v1;\n",
        " int rank,size;\n",
        " int n,a,sum=0,b,c;\n",
        "  MPI_Init(&argc,&argv);\n",
        " MPI_Comm_size(MPI_COMM_WORLD,&size);\n",
        " MPI_Comm_rank(MPI_COMM_WORLD,&rank);\n",
        " a=N/size;\n",
        " for(int i=rank*a;i<(rank+1)*a;i++)\n",
        " {\n",
        "     v.push_back(i);\n",
        " }\n",
        " if(rank==(size-1))\n",
        " {\n",
        "     if(N%size!=0)\n",
        "     {\n",
        "         a=N%size;\n",
        "      for(int i=N-1;i>=N-a;i--)\n",
        "      {\n",
        "          sum=sum+v[i];\n",
        "      }\n",
        "     }\n",
        " }\n",
        "  for(int i=0;i<v.size();i++)\n",
        " {\n",
        "     sum=sum+v[i];;\n",
        " }\n",
        " cout<<\"sum=\"<<sum<<\" of rank \"<<rank<<\"\\n\";\n",
        " if(rank==0)\n",
        " {\n",
        "     for(int i=1;i<size;i++)\n",
        "     {\n",
        "         MPI_Recv(&b,1,MPI_INT,i,0,MPI_COMM_WORLD,MPI_STATUS_IGNORE);\n",
        "      v1.push_back(b);\n",
        "     }\n",
        " }\n",
        " else\n",
        " {\n",
        "     MPI_Send(&sum,1,MPI_INT,0,0,MPI_COMM_WORLD);\n",
        " }\n",
        " MPI_Barrier(MPI_COMM_WORLD);\n",
        " if(rank==0)\n",
        " {\n",
        "     for(int i=0;i<size-1;i++)\n",
        "     {\n",
        "         sum=sum+v1[i];\n",
        "     }\n",
        "  cout<<\"sum=\"<<sum;\n",
        " }\n",
        " MPI_Finalize();\n",
        " return 0;\n",
        "}"
      ],
      "execution_count": 12,
      "outputs": [
        {
          "output_type": "stream",
          "name": "stdout",
          "text": [
            "Overwriting arrsum1.cpp\n"
          ]
        }
      ]
    },
    {
      "cell_type": "code",
      "metadata": {
        "colab": {
          "base_uri": "https://localhost:8080/"
        },
        "id": "8PWxxNzVSzP7",
        "outputId": "c5646b48-2593-4e0d-844a-3d8de27ca6a3"
      },
      "source": [
        "!mpic++ arrsum1.cpp\n",
        "!mpirun -np 4 --allow-run-as-root ./a.out"
      ],
      "execution_count": 13,
      "outputs": [
        {
          "output_type": "stream",
          "name": "stdout",
          "text": [
            "sum=35 of rank 1\n",
            "sum=85 of rank 3\n",
            "sum=10 of rank 0\n",
            "sum=60 of rank 2\n",
            "sum=190"
          ]
        }
      ]
    },
    {
      "cell_type": "code",
      "metadata": {
        "id": "02eLnELitIIN",
        "colab": {
          "base_uri": "https://localhost:8080/"
        },
        "outputId": "f9c648ed-f489-41a5-a784-7ab5615835c1"
      },
      "source": [
        "%%writefile exchange.cpp\n",
        "\n",
        "\n",
        "#include<iostream>\n",
        "#include<vector>\n",
        "#include<mpi.h>\n",
        "#include<cstdlib>\n",
        "using namespace std;\n",
        "int main(int argc, char **argv)\n",
        "{\n",
        "  int v[10],v1[10];\n",
        " int *p,*q;\n",
        " int rank,size;\n",
        " int n,a,b,c;\n",
        " p=v;\n",
        " q=v1;\n",
        "  MPI_Init(&argc,&argv);\n",
        " MPI_Comm_size(MPI_COMM_WORLD,&size);\n",
        " MPI_Comm_rank(MPI_COMM_WORLD,&rank);\n",
        " n=10;\n",
        " srand(time(NULL)+rank);\n",
        " for(int i=0;i<n;i++)\n",
        " {\n",
        "     a=rand();\n",
        "  v[i]=a;\n",
        " }\n",
        " cout<<\"rank \"<<rank<<\" value before exchange is->\";\n",
        " for(int i=0;i<n;i++)\n",
        " {\n",
        "     cout<<v[i]<<\" \";\n",
        " }\n",
        " cout<<\"\\n\";\n",
        "if(rank<size)\n",
        "{\n",
        "    b=rank;\n",
        " b=(rank+1)%size;\n",
        " MPI_Send(&v,n,MPI_INT,b,0,MPI_COMM_WORLD);\n",
        " c=(rank+size-1)%size;\n",
        " MPI_Recv(&v1,n,MPI_INT,c,0,MPI_COMM_WORLD,MPI_STATUS_IGNORE);\n",
        " for(int i=0;i<n;i++)\n",
        " {\n",
        "     v[i]=v1[i];\n",
        " }\n",
        "}\n",
        " MPI_Barrier(MPI_COMM_WORLD);\n",
        " cout<<\"rank \"<<rank<<\" value after exchange is->\";\n",
        " for(int i=0;i<n;i++)\n",
        " {\n",
        "     cout<<v[i]<<\" \";\n",
        " }\n",
        " cout<<\"\\n\";\n",
        " MPI_Finalize();\n",
        " return 0;\n",
        "}"
      ],
      "execution_count": 27,
      "outputs": [
        {
          "output_type": "stream",
          "name": "stdout",
          "text": [
            "Overwriting exchange.cpp\n"
          ]
        }
      ]
    },
    {
      "cell_type": "code",
      "metadata": {
        "colab": {
          "base_uri": "https://localhost:8080/"
        },
        "id": "832rXgK1qkyf",
        "outputId": "330bef8d-5986-4c4a-8fc0-348a2e3f89bf"
      },
      "source": [
        "!mpic++ exchange.cpp\n",
        "!mpirun -np 2 --allow-run-as-root ./a.out"
      ],
      "execution_count": 28,
      "outputs": [
        {
          "output_type": "stream",
          "name": "stdout",
          "text": [
            "rank 0 value before exchange is->780875042 91209273 431103531 955054008 1481415418 231461206 1803357862 1803063807 2062990834 1517871801 \n",
            "rank 1 value before exchange is->1546085972 973197252 1078989240 563792767 1333467057 703101333 1499369200 281449496 1642013167 619797117 \n",
            "rank 0 value after exchange is->1546085972 973197252 1078989240 563792767 1333467057 703101333 1499369200 281449496 1642013167 619797117 \n",
            "rank 1 value after exchange is->780875042 91209273 431103531 955054008 1481415418 231461206 1803357862 1803063807 2062990834 1517871801 \n"
          ]
        }
      ]
    },
    {
      "cell_type": "code",
      "metadata": {
        "colab": {
          "base_uri": "https://localhost:8080/"
        },
        "id": "DHQ9y5tVH37j",
        "outputId": "593d981f-dcdf-4b8e-d0f1-2068702e40f0"
      },
      "source": [
        "%%writefile vector.cpp\n",
        "\n",
        "\n",
        "\n",
        "#include<iostream>\n",
        "#include<vector>\n",
        "#include<mpi.h>\n",
        "#include<cstdlib>\n",
        "#define N 20\n",
        "using namespace std;\n",
        "int main(int argc, char **argv)\n",
        "{\n",
        "  vector<int64_t> v,v1,v2;\n",
        " int rank,size,c,n,a;\n",
        " int64_t b,sum=0;;\n",
        "  MPI_Init(&argc,&argv);\n",
        " MPI_Comm_size(MPI_COMM_WORLD,&size);\n",
        " MPI_Comm_rank(MPI_COMM_WORLD,&rank);\n",
        "  n=N/size;\n",
        " srand(time(NULL)+rank);\n",
        " for(int i=(rank*n);i<(rank+1)*n;i++)\n",
        " {\n",
        "     c=rand()%10+1;\n",
        "     v.push_back(c);\n",
        " }\n",
        " for(int i=(rank*n);i<(rank+1)*n;i++)\n",
        " {\n",
        "     c=rand()%10+1;\n",
        "     v1.push_back(c);   \n",
        " }\n",
        " if(rank==(size-1))\n",
        " {\n",
        "     if(N%size!=0)\n",
        "     {\n",
        "         a=N%size;\n",
        "      for(int i=N-1;i>=N-a;i--)\n",
        "      {\n",
        "          c=rand()%10+1;\n",
        "          v.push_back(c);\n",
        "      }\n",
        "            for(int i=N-1;i>=N-a;i--)\n",
        "      {\n",
        "          c=rand()%10+1;\n",
        "          v1.push_back(c);\n",
        "      }\n",
        "     }\n",
        " }\n",
        " for(int i=0;i<v.size();i++)\n",
        " {\n",
        "     cout<<v[i]<<\" \";\n",
        " }\n",
        " cout<<\"\\n\";\n",
        "  for(int i=0;i<v1.size();i++)\n",
        " {\n",
        "     cout<<v1[i]<<\" \";\n",
        " }\n",
        " cout<<\"\\n\";\n",
        "  for(int i=0;i<v.size();i++)\n",
        " {\n",
        "     c=v[i]*v1[i];\n",
        "     sum=sum+c;\n",
        " }\n",
        " MPI_Barrier(MPI_COMM_WORLD);\n",
        " cout<<\"rank is \"<<rank<<\" sum is \"<<sum<<\"\\n\";\n",
        "  if(rank==0)\n",
        " {\n",
        "     for(int i=1;i<size;i++)\n",
        "     {\n",
        "         MPI_Recv(&a,1,MPI_INT,i,0,MPI_COMM_WORLD,MPI_STATUS_IGNORE);\n",
        "      v2.push_back(a);\n",
        "     }\n",
        " }\n",
        " else\n",
        " {\n",
        "     MPI_Send(&sum,1,MPI_INT,0,0,MPI_COMM_WORLD);\n",
        " }\n",
        " MPI_Barrier(MPI_COMM_WORLD);\n",
        " if(rank==0)\n",
        " {\n",
        "          for(int i=0;i<size-1;i++)\n",
        "     {\n",
        "         sum=sum+v2[i];\n",
        "     }\n",
        "  cout<<\"sum= \"<<sum;\n",
        " }\n",
        " MPI_Finalize();\n",
        " return 0;\n",
        "}"
      ],
      "execution_count": 13,
      "outputs": [
        {
          "output_type": "stream",
          "name": "stdout",
          "text": [
            "Overwriting vector.cpp\n"
          ]
        }
      ]
    },
    {
      "cell_type": "code",
      "metadata": {
        "colab": {
          "base_uri": "https://localhost:8080/"
        },
        "id": "4c8Ymn0FIAkF",
        "outputId": "dddfc656-4579-418c-ae0d-10b4d2a98819"
      },
      "source": [
        "!mpic++ vector.cpp\n",
        "!mpirun -np 8 --allow-run-as-root ./a.out"
      ],
      "execution_count": 14,
      "outputs": [
        {
          "output_type": "stream",
          "name": "stdout",
          "text": [
            "10 8 \n",
            "2 4 \n",
            "6 3 \n",
            "7 5 \n",
            "4 4 \n",
            "5 8 \n",
            "7 8 \n",
            "1 4 \n",
            "7 10 \n",
            "6 7 \n",
            "3 8 4 5 5 3 \n",
            "9 1 1 1 6 6 \n",
            "7 7 \n",
            "5 9 \n",
            "7 3 \n",
            "9 4 \n",
            "rank is 4 sum is 52\n",
            "rank is 5 sum is 75\n",
            "rank is 1 sum is 112\n",
            "rank is 6 sum is 39\n",
            "rank is 2 sum is 57\n",
            "rank is 0 sum is 52\n",
            "rank is 7 sum is 92\n",
            "rank is 3 sum is 98\n",
            "sum= 577"
          ]
        }
      ]
    }
  ]
}